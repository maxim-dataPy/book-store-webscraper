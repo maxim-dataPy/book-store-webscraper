{
 "cells": [
  {
   "cell_type": "markdown",
   "id": "975fab94-2a40-4b6f-9288-92eaeb667755",
   "metadata": {},
   "source": [
    "# Scraping a book web-site"
   ]
  },
  {
   "cell_type": "code",
   "execution_count": 2,
   "id": "db1cfa8e-9a83-4297-b248-49fc6d2e1a43",
   "metadata": {},
   "outputs": [],
   "source": [
    "import requests\n",
    "from bs4 import BeautifulSoup\n",
    "import pandas as pd"
   ]
  },
  {
   "cell_type": "markdown",
   "id": "85e59de6-5e9a-446a-838a-838c56ea64e0",
   "metadata": {},
   "source": [
    "## Preparation"
   ]
  },
  {
   "cell_type": "code",
   "execution_count": 4,
   "id": "62f681b2-1e85-4bdf-b1dc-b10229118d9d",
   "metadata": {},
   "outputs": [],
   "source": [
    "# creating lists for the dataframe\n",
    "titles_col = []\n",
    "prices_col = []\n",
    "availability_col = []\n",
    "rating_col = []\n",
    "\n",
    "#preparing a map to convert the book-rating-strings to numbers\n",
    "rating_map = {\n",
    "    'One': 1,\n",
    "    'Two': 2,\n",
    "    'Three': 3,\n",
    "    'Four': 4,\n",
    "    'Five': 5\n",
    "}"
   ]
  },
  {
   "cell_type": "markdown",
   "id": "404bee55-3e69-4cd3-9456-e5fd4dbaa99a",
   "metadata": {},
   "source": [
    "### Scraping the Data"
   ]
  },
  {
   "cell_type": "code",
   "execution_count": 6,
   "id": "cd763239-3d3c-4d1a-8223-9d9ef1a23c2e",
   "metadata": {},
   "outputs": [],
   "source": [
    "# iterating through multiple pages on website\n",
    "for i in range(1,51):\n",
    "\n",
    "    # get html data and create parser\n",
    "    url = requests.get(f\"https://books.toscrape.com/catalogue/category/books_1/page-{i}.html\")\n",
    "    soup = BeautifulSoup(url.content, \"lxml\")\n",
    "\n",
    "    # obtaining the specific part of the code I need\n",
    "    books = soup.find_all('article', class_='product_pod')\n",
    "\n",
    "    # iterating through the required tags and adding data to the lists\n",
    "    for book in books:\n",
    "        title = book.h3.a['title'].strip()\n",
    "        price = book.find('p', class_ = 'price_color').text.strip()\n",
    "        availability = book.find('p', class_ = 'instock availability').text.strip()\n",
    "        rating = book.find('p')['class'][1]\n",
    "\n",
    "        titles_col.append(title)\n",
    "        prices_col.append(price)\n",
    "        availability_col.append(availability)\n",
    "        rating_col.append(rating)"
   ]
  },
  {
   "cell_type": "markdown",
   "id": "ecafe0c0-5a86-4c73-a304-40c5d366d0bf",
   "metadata": {},
   "source": [
    "### Dataframe & CSV"
   ]
  },
  {
   "cell_type": "code",
   "execution_count": 8,
   "id": "350ef87b-6e04-40c3-b96d-88c519839e12",
   "metadata": {},
   "outputs": [],
   "source": [
    "# creating the dataframe\n",
    "pd.set_option('display.max_colwidth', None)\n",
    "df = pd.DataFrame(data = {'Book_title': titles_col, 'Book_prices': prices_col, 'Availability': availability_col, 'Rating': rating_col})\n",
    "\n",
    "# cleaning the dataframe\n",
    "df['Book_prices'] = df['Book_prices'].str.replace('£', '', regex=False).astype(float)\n",
    "df['Rating'] = df['Rating'].map(rating_map)\n",
    "\n",
    "# exporting the dataframa as a csv file\n",
    "df.to_csv('Book_scraping.csv')"
   ]
  },
  {
   "cell_type": "code",
   "execution_count": 15,
   "id": "bce28fc7-014a-417a-af6a-57a605cd3b47",
   "metadata": {},
   "outputs": [
    {
     "data": {
      "text/html": [
       "<div>\n",
       "<style scoped>\n",
       "    .dataframe tbody tr th:only-of-type {\n",
       "        vertical-align: middle;\n",
       "    }\n",
       "\n",
       "    .dataframe tbody tr th {\n",
       "        vertical-align: top;\n",
       "    }\n",
       "\n",
       "    .dataframe thead th {\n",
       "        text-align: right;\n",
       "    }\n",
       "</style>\n",
       "<table border=\"1\" class=\"dataframe\">\n",
       "  <thead>\n",
       "    <tr style=\"text-align: right;\">\n",
       "      <th></th>\n",
       "      <th>Book_title</th>\n",
       "      <th>Book_prices</th>\n",
       "      <th>Availability</th>\n",
       "      <th>Rating</th>\n",
       "    </tr>\n",
       "  </thead>\n",
       "  <tbody>\n",
       "    <tr>\n",
       "      <th>0</th>\n",
       "      <td>A Light in the Attic</td>\n",
       "      <td>51.77</td>\n",
       "      <td>In stock</td>\n",
       "      <td>3</td>\n",
       "    </tr>\n",
       "    <tr>\n",
       "      <th>1</th>\n",
       "      <td>Tipping the Velvet</td>\n",
       "      <td>53.74</td>\n",
       "      <td>In stock</td>\n",
       "      <td>1</td>\n",
       "    </tr>\n",
       "    <tr>\n",
       "      <th>2</th>\n",
       "      <td>Soumission</td>\n",
       "      <td>50.10</td>\n",
       "      <td>In stock</td>\n",
       "      <td>1</td>\n",
       "    </tr>\n",
       "    <tr>\n",
       "      <th>3</th>\n",
       "      <td>Sharp Objects</td>\n",
       "      <td>47.82</td>\n",
       "      <td>In stock</td>\n",
       "      <td>4</td>\n",
       "    </tr>\n",
       "    <tr>\n",
       "      <th>4</th>\n",
       "      <td>Sapiens: A Brief History of Humankind</td>\n",
       "      <td>54.23</td>\n",
       "      <td>In stock</td>\n",
       "      <td>5</td>\n",
       "    </tr>\n",
       "    <tr>\n",
       "      <th>...</th>\n",
       "      <td>...</td>\n",
       "      <td>...</td>\n",
       "      <td>...</td>\n",
       "      <td>...</td>\n",
       "    </tr>\n",
       "    <tr>\n",
       "      <th>995</th>\n",
       "      <td>Alice in Wonderland (Alice's Adventures in Wonderland #1)</td>\n",
       "      <td>55.53</td>\n",
       "      <td>In stock</td>\n",
       "      <td>1</td>\n",
       "    </tr>\n",
       "    <tr>\n",
       "      <th>996</th>\n",
       "      <td>Ajin: Demi-Human, Volume 1 (Ajin: Demi-Human #1)</td>\n",
       "      <td>57.06</td>\n",
       "      <td>In stock</td>\n",
       "      <td>4</td>\n",
       "    </tr>\n",
       "    <tr>\n",
       "      <th>997</th>\n",
       "      <td>A Spy's Devotion (The Regency Spies of London #1)</td>\n",
       "      <td>16.97</td>\n",
       "      <td>In stock</td>\n",
       "      <td>5</td>\n",
       "    </tr>\n",
       "    <tr>\n",
       "      <th>998</th>\n",
       "      <td>1st to Die (Women's Murder Club #1)</td>\n",
       "      <td>53.98</td>\n",
       "      <td>In stock</td>\n",
       "      <td>1</td>\n",
       "    </tr>\n",
       "    <tr>\n",
       "      <th>999</th>\n",
       "      <td>1,000 Places to See Before You Die</td>\n",
       "      <td>26.08</td>\n",
       "      <td>In stock</td>\n",
       "      <td>5</td>\n",
       "    </tr>\n",
       "  </tbody>\n",
       "</table>\n",
       "<p>1000 rows × 4 columns</p>\n",
       "</div>"
      ],
      "text/plain": [
       "                                                    Book_title  Book_prices  \\\n",
       "0                                         A Light in the Attic        51.77   \n",
       "1                                           Tipping the Velvet        53.74   \n",
       "2                                                   Soumission        50.10   \n",
       "3                                                Sharp Objects        47.82   \n",
       "4                        Sapiens: A Brief History of Humankind        54.23   \n",
       "..                                                         ...          ...   \n",
       "995  Alice in Wonderland (Alice's Adventures in Wonderland #1)        55.53   \n",
       "996           Ajin: Demi-Human, Volume 1 (Ajin: Demi-Human #1)        57.06   \n",
       "997          A Spy's Devotion (The Regency Spies of London #1)        16.97   \n",
       "998                        1st to Die (Women's Murder Club #1)        53.98   \n",
       "999                         1,000 Places to See Before You Die        26.08   \n",
       "\n",
       "    Availability  Rating  \n",
       "0       In stock       3  \n",
       "1       In stock       1  \n",
       "2       In stock       1  \n",
       "3       In stock       4  \n",
       "4       In stock       5  \n",
       "..           ...     ...  \n",
       "995     In stock       1  \n",
       "996     In stock       4  \n",
       "997     In stock       5  \n",
       "998     In stock       1  \n",
       "999     In stock       5  \n",
       "\n",
       "[1000 rows x 4 columns]"
      ]
     },
     "execution_count": 15,
     "metadata": {},
     "output_type": "execute_result"
    }
   ],
   "source": [
    "#overview of the dataframe\n",
    "df"
   ]
  }
 ],
 "metadata": {
  "kernelspec": {
   "display_name": "Python [conda env:base] *",
   "language": "python",
   "name": "conda-base-py"
  },
  "language_info": {
   "codemirror_mode": {
    "name": "ipython",
    "version": 3
   },
   "file_extension": ".py",
   "mimetype": "text/x-python",
   "name": "python",
   "nbconvert_exporter": "python",
   "pygments_lexer": "ipython3",
   "version": "3.12.3"
  }
 },
 "nbformat": 4,
 "nbformat_minor": 5
}
