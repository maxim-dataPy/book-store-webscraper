{
 "cells": [
  {
   "cell_type": "markdown",
   "id": "975fab94-2a40-4b6f-9288-92eaeb667755",
   "metadata": {},
   "source": [
    "# Scraping a book web-site"
   ]
  },
  {
   "cell_type": "code",
   "execution_count": 10,
   "id": "db1cfa8e-9a83-4297-b248-49fc6d2e1a43",
   "metadata": {},
   "outputs": [],
   "source": [
    "import requests\n",
    "from bs4 import BeautifulSoup\n",
    "import pandas as pd"
   ]
  },
  {
   "cell_type": "markdown",
   "id": "85e59de6-5e9a-446a-838a-838c56ea64e0",
   "metadata": {},
   "source": [
    "## Preparation"
   ]
  },
  {
   "cell_type": "code",
   "execution_count": 12,
   "id": "62f681b2-1e85-4bdf-b1dc-b10229118d9d",
   "metadata": {},
   "outputs": [],
   "source": [
    "# creating lists for the dataframe\n",
    "titles_col = []\n",
    "prices_col = []\n",
    "availability_col = []\n",
    "rating_col = []\n",
    "\n",
    "#preparing a map to convert the book-rating-strings to numbers\n",
    "rating_map = {\n",
    "    'One': 1,\n",
    "    'Two': 2,\n",
    "    'Three': 3,\n",
    "    'Four': 4,\n",
    "    'Five': 5\n",
    "}"
   ]
  },
  {
   "cell_type": "markdown",
   "id": "404bee55-3e69-4cd3-9456-e5fd4dbaa99a",
   "metadata": {},
   "source": [
    "### Scraping the Data"
   ]
  },
  {
   "cell_type": "code",
   "execution_count": 14,
   "id": "cd763239-3d3c-4d1a-8223-9d9ef1a23c2e",
   "metadata": {},
   "outputs": [],
   "source": [
    "# iterating through multiple pages on website\n",
    "for i in range(1,51):\n",
    "\n",
    "    # get html data and create parser\n",
    "    url = requests.get(f\"https://books.toscrape.com/catalogue/category/books_1/page-{i}.html\")\n",
    "    soup = BeautifulSoup(url.content, \"lxml\")\n",
    "\n",
    "    # obtaining the specific part of the code I need\n",
    "    books = soup.find_all('article', class_='product_pod')\n",
    "\n",
    "    # iterating through the required tags and adding data to the lists\n",
    "    for book in books:\n",
    "        title = book.h3.a['title'].strip()\n",
    "        price = book.find('p', class_ = 'price_color').text.strip()\n",
    "        availability = book.find('p', class_ = 'instock availability').text.strip()\n",
    "        rating = book.find('p')['class'][1]\n",
    "\n",
    "        titles_col.append(title)\n",
    "        prices_col.append(price)\n",
    "        availability_col.append(availability)\n",
    "        rating_col.append(rating)"
   ]
  },
  {
   "cell_type": "markdown",
   "id": "ecafe0c0-5a86-4c73-a304-40c5d366d0bf",
   "metadata": {},
   "source": [
    "### Dataframe & CSV"
   ]
  },
  {
   "cell_type": "code",
   "execution_count": 16,
   "id": "350ef87b-6e04-40c3-b96d-88c519839e12",
   "metadata": {},
   "outputs": [],
   "source": [
    "# creating the dataframe\n",
    "pd.set_option('display.max_colwidth', None)\n",
    "df = pd.DataFrame(data = {'Book_title': titles_col, 'Book_prices': prices_col, 'Availability': availability_col, 'Rating': rating_col})\n",
    "\n",
    "# cleaning the dataframe\n",
    "df['Book_prices'] = df['Book_prices'].str.replace('£', '', regex=False).astype(float)\n",
    "df['Rating'] = df['Rating'].map(rating_map)\n",
    "\n",
    "#overview of the dataframe\n",
    "df.head()\n",
    "\n",
    "# exporting the dataframa as a csv file\n",
    "df.to_csv('Book_scraping.csv')"
   ]
  }
 ],
 "metadata": {
  "kernelspec": {
   "display_name": "Python [conda env:base] *",
   "language": "python",
   "name": "conda-base-py"
  },
  "language_info": {
   "codemirror_mode": {
    "name": "ipython",
    "version": 3
   },
   "file_extension": ".py",
   "mimetype": "text/x-python",
   "name": "python",
   "nbconvert_exporter": "python",
   "pygments_lexer": "ipython3",
   "version": "3.12.3"
  }
 },
 "nbformat": 4,
 "nbformat_minor": 5
}
